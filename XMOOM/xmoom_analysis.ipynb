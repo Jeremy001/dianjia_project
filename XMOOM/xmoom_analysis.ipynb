{
 "cells": [
  {
   "cell_type": "code",
   "execution_count": 1,
   "metadata": {},
   "outputs": [],
   "source": [
    "# 加载包\n",
    "%matplotlib inline\n",
    "import numpy as np\n",
    "import pandas as pd\n",
    "from matplotlib import pyplot as plt\n",
    "import seaborn as sns"
   ]
  },
  {
   "cell_type": "code",
   "execution_count": 2,
   "metadata": {},
   "outputs": [
    {
     "name": "stderr",
     "output_type": "stream",
     "text": [
      "/anaconda3/lib/python3.6/site-packages/IPython/core/interactiveshell.py:2728: DtypeWarning: Columns (22) have mixed types. Specify dtype option on import or set low_memory=False.\n",
      "  interactivity=interactivity, compiler=compiler, result=result)\n",
      "/anaconda3/lib/python3.6/site-packages/IPython/core/interactiveshell.py:2728: DtypeWarning: Columns (0) have mixed types. Specify dtype option on import or set low_memory=False.\n",
      "  interactivity=interactivity, compiler=compiler, result=result)\n"
     ]
    }
   ],
   "source": [
    "# 加载数据\n",
    "## 2013-2015\n",
    "xmoom_sale_2013_2015 = pd.read_csv(\"./data/xmoom_sale_2013_2015.CSV\", \n",
    "                                   encoding = 'gb18030')\n",
    "## 2016\n",
    "xmoom_sale_2016 = pd.read_csv(\"./data/xmoom_sale_2016.CSV\", \n",
    "                              encoding = 'gb18030')\n",
    "### 最后一列是空的，剔除掉\n",
    "xmoom_sale_2016 = xmoom_sale_2016.iloc[:,0:30]\n",
    "## 2017\n",
    "xmoom_sale_2017 = pd.read_csv(\"./data/xmoom_sale_2017.CSV\", \n",
    "                              encoding = 'gb18030')\n",
    "### 最后一列是空的，剔除掉\n",
    "xmoom_sale_2017 = xmoom_sale_2017.iloc[:,0:30]\n",
    "## 2018Q1\n",
    "xmoom_sale_2018Q1 = pd.read_csv(\"./data/xmoom_sale_2018Q1.CSV\", \n",
    "                                encoding = 'gb18030')\n",
    "### 最后一列是空的，剔除掉\n",
    "xmoom_sale_2018Q1 = xmoom_sale_2018Q1.iloc[:,0:42]"
   ]
  },
  {
   "cell_type": "code",
   "execution_count": 3,
   "metadata": {},
   "outputs": [],
   "source": [
    "# 处理数据\n",
    "## 把2013-2017共5年的数据合并\n",
    "xmoom_sale_2013_2017 = xmoom_sale_2013_2015.append(xmoom_sale_2016).append(xmoom_sale_2017)"
   ]
  },
  {
   "cell_type": "code",
   "execution_count": 9,
   "metadata": {},
   "outputs": [
    {
     "data": {
      "text/html": [
       "<div>\n",
       "<style scoped>\n",
       "    .dataframe tbody tr th:only-of-type {\n",
       "        vertical-align: middle;\n",
       "    }\n",
       "\n",
       "    .dataframe tbody tr th {\n",
       "        vertical-align: top;\n",
       "    }\n",
       "\n",
       "    .dataframe thead th {\n",
       "        text-align: right;\n",
       "    }\n",
       "</style>\n",
       "<table border=\"1\" class=\"dataframe\">\n",
       "  <thead>\n",
       "    <tr style=\"text-align: right;\">\n",
       "      <th></th>\n",
       "      <th>年</th>\n",
       "      <th>月</th>\n",
       "      <th>日期</th>\n",
       "      <th>渠道名称</th>\n",
       "      <th>区域名称</th>\n",
       "      <th>客户代码</th>\n",
       "      <th>客户名称</th>\n",
       "      <th>类别名称</th>\n",
       "      <th>客户类别</th>\n",
       "      <th>单位</th>\n",
       "      <th>...</th>\n",
       "      <th>波段名称.1</th>\n",
       "      <th>小类名称</th>\n",
       "      <th>季节名称</th>\n",
       "      <th>颜色名称</th>\n",
       "      <th>尺码名称</th>\n",
       "      <th>数量</th>\n",
       "      <th>选定金额</th>\n",
       "      <th>成本金额</th>\n",
       "      <th>实际金额</th>\n",
       "      <th>结算额</th>\n",
       "    </tr>\n",
       "  </thead>\n",
       "  <tbody>\n",
       "    <tr>\n",
       "      <th>0</th>\n",
       "      <td>2018</td>\n",
       "      <td>1.0</td>\n",
       "      <td>2018-01-01</td>\n",
       "      <td>总部</td>\n",
       "      <td>东北区</td>\n",
       "      <td>B205</td>\n",
       "      <td>沈阳尚柏奥莱</td>\n",
       "      <td>自营</td>\n",
       "      <td>2.0</td>\n",
       "      <td>件</td>\n",
       "      <td>...</td>\n",
       "      <td>冬一波</td>\n",
       "      <td>AA套衫</td>\n",
       "      <td>17年冬季</td>\n",
       "      <td>33大红</td>\n",
       "      <td>M</td>\n",
       "      <td>1.0</td>\n",
       "      <td>1290.0</td>\n",
       "      <td>0.0</td>\n",
       "      <td>774.0</td>\n",
       "      <td>681.12</td>\n",
       "    </tr>\n",
       "    <tr>\n",
       "      <th>1</th>\n",
       "      <td>2018</td>\n",
       "      <td>1.0</td>\n",
       "      <td>2018-01-01</td>\n",
       "      <td>总部</td>\n",
       "      <td>东北区</td>\n",
       "      <td>B205</td>\n",
       "      <td>沈阳尚柏奥莱</td>\n",
       "      <td>自营</td>\n",
       "      <td>2.0</td>\n",
       "      <td>件</td>\n",
       "      <td>...</td>\n",
       "      <td>春三波</td>\n",
       "      <td>CD长袖衬衫</td>\n",
       "      <td>17年春季</td>\n",
       "      <td>55藏蓝</td>\n",
       "      <td>L</td>\n",
       "      <td>1.0</td>\n",
       "      <td>1090.0</td>\n",
       "      <td>0.0</td>\n",
       "      <td>458.0</td>\n",
       "      <td>403.04</td>\n",
       "    </tr>\n",
       "    <tr>\n",
       "      <th>2</th>\n",
       "      <td>2018</td>\n",
       "      <td>1.0</td>\n",
       "      <td>2018-01-01</td>\n",
       "      <td>总部</td>\n",
       "      <td>东北区</td>\n",
       "      <td>B205</td>\n",
       "      <td>沈阳尚柏奥莱</td>\n",
       "      <td>自营</td>\n",
       "      <td>2.0</td>\n",
       "      <td>件</td>\n",
       "      <td>...</td>\n",
       "      <td>未定义</td>\n",
       "      <td>DC长大衣</td>\n",
       "      <td>17年冬季</td>\n",
       "      <td>58藏青</td>\n",
       "      <td>M</td>\n",
       "      <td>-1.0</td>\n",
       "      <td>-3690.0</td>\n",
       "      <td>0.0</td>\n",
       "      <td>-1476.0</td>\n",
       "      <td>-1298.88</td>\n",
       "    </tr>\n",
       "    <tr>\n",
       "      <th>3</th>\n",
       "      <td>2018</td>\n",
       "      <td>1.0</td>\n",
       "      <td>2018-01-01</td>\n",
       "      <td>总部</td>\n",
       "      <td>东北区</td>\n",
       "      <td>B205</td>\n",
       "      <td>沈阳尚柏奥莱</td>\n",
       "      <td>自营</td>\n",
       "      <td>2.0</td>\n",
       "      <td>件</td>\n",
       "      <td>...</td>\n",
       "      <td>未定义</td>\n",
       "      <td>DC长大衣</td>\n",
       "      <td>17年冬季</td>\n",
       "      <td>58藏青</td>\n",
       "      <td>M</td>\n",
       "      <td>1.0</td>\n",
       "      <td>3690.0</td>\n",
       "      <td>0.0</td>\n",
       "      <td>1476.0</td>\n",
       "      <td>1298.88</td>\n",
       "    </tr>\n",
       "    <tr>\n",
       "      <th>4</th>\n",
       "      <td>2018</td>\n",
       "      <td>1.0</td>\n",
       "      <td>2018-01-01</td>\n",
       "      <td>总部</td>\n",
       "      <td>东北区</td>\n",
       "      <td>B205</td>\n",
       "      <td>沈阳尚柏奥莱</td>\n",
       "      <td>自营</td>\n",
       "      <td>2.0</td>\n",
       "      <td>件</td>\n",
       "      <td>...</td>\n",
       "      <td>未定义</td>\n",
       "      <td>DC长大衣</td>\n",
       "      <td>17年冬季</td>\n",
       "      <td>58藏青</td>\n",
       "      <td>S</td>\n",
       "      <td>1.0</td>\n",
       "      <td>3690.0</td>\n",
       "      <td>0.0</td>\n",
       "      <td>1476.0</td>\n",
       "      <td>1298.88</td>\n",
       "    </tr>\n",
       "  </tbody>\n",
       "</table>\n",
       "<p>5 rows × 42 columns</p>\n",
       "</div>"
      ],
      "text/plain": [
       "      年    月          日期 渠道名称 区域名称  客户代码    客户名称 类别名称  客户类别 单位   ...     \\\n",
       "0  2018  1.0  2018-01-01   总部  东北区  B205  沈阳尚柏奥莱   自营   2.0  件   ...      \n",
       "1  2018  1.0  2018-01-01   总部  东北区  B205  沈阳尚柏奥莱   自营   2.0  件   ...      \n",
       "2  2018  1.0  2018-01-01   总部  东北区  B205  沈阳尚柏奥莱   自营   2.0  件   ...      \n",
       "3  2018  1.0  2018-01-01   总部  东北区  B205  沈阳尚柏奥莱   自营   2.0  件   ...      \n",
       "4  2018  1.0  2018-01-01   总部  东北区  B205  沈阳尚柏奥莱   自营   2.0  件   ...      \n",
       "\n",
       "  波段名称.1    小类名称   季节名称  颜色名称 尺码名称   数量    选定金额 成本金额    实际金额      结算额  \n",
       "0    冬一波    AA套衫  17年冬季  33大红    M  1.0  1290.0  0.0   774.0   681.12  \n",
       "1    春三波  CD长袖衬衫  17年春季  55藏蓝    L  1.0  1090.0  0.0   458.0   403.04  \n",
       "2    未定义   DC长大衣  17年冬季  58藏青    M -1.0 -3690.0  0.0 -1476.0 -1298.88  \n",
       "3    未定义   DC长大衣  17年冬季  58藏青    M  1.0  3690.0  0.0  1476.0  1298.88  \n",
       "4    未定义   DC长大衣  17年冬季  58藏青    S  1.0  3690.0  0.0  1476.0  1298.88  \n",
       "\n",
       "[5 rows x 42 columns]"
      ]
     },
     "execution_count": 9,
     "metadata": {},
     "output_type": "execute_result"
    }
   ],
   "source": [
    "xmoom_sale_2018Q1.head()"
   ]
  },
  {
   "cell_type": "code",
   "execution_count": 10,
   "metadata": {},
   "outputs": [
    {
     "data": {
      "text/html": [
       "<div>\n",
       "<style scoped>\n",
       "    .dataframe tbody tr th:only-of-type {\n",
       "        vertical-align: middle;\n",
       "    }\n",
       "\n",
       "    .dataframe tbody tr th {\n",
       "        vertical-align: top;\n",
       "    }\n",
       "\n",
       "    .dataframe thead th {\n",
       "        text-align: right;\n",
       "    }\n",
       "</style>\n",
       "<table border=\"1\" class=\"dataframe\">\n",
       "  <thead>\n",
       "    <tr style=\"text-align: right;\">\n",
       "      <th></th>\n",
       "      <th>年</th>\n",
       "      <th>月</th>\n",
       "      <th>日期</th>\n",
       "      <th>渠道名称</th>\n",
       "      <th>区域名称</th>\n",
       "      <th>客户代码</th>\n",
       "      <th>客户名称</th>\n",
       "      <th>类别名称</th>\n",
       "      <th>客户类别</th>\n",
       "      <th>单据编号</th>\n",
       "      <th>...</th>\n",
       "      <th>设计师名称</th>\n",
       "      <th>季节名称</th>\n",
       "      <th>商品年份</th>\n",
       "      <th>商品名称</th>\n",
       "      <th>单据类型</th>\n",
       "      <th>商品代码</th>\n",
       "      <th>数量</th>\n",
       "      <th>选定金额</th>\n",
       "      <th>实际金额</th>\n",
       "      <th>结算额</th>\n",
       "    </tr>\n",
       "  </thead>\n",
       "  <tbody>\n",
       "    <tr>\n",
       "      <th>0</th>\n",
       "      <td>2013</td>\n",
       "      <td>1</td>\n",
       "      <td>2013-01-01</td>\n",
       "      <td>北京分部</td>\n",
       "      <td>未定义</td>\n",
       "      <td>B098</td>\n",
       "      <td>天津伊势丹</td>\n",
       "      <td>托管</td>\n",
       "      <td>3</td>\n",
       "      <td>LA1B098000989</td>\n",
       "      <td>...</td>\n",
       "      <td>未定义</td>\n",
       "      <td>11年冬季</td>\n",
       "      <td>2011</td>\n",
       "      <td>短款羽绒衣</td>\n",
       "      <td>零售销货单</td>\n",
       "      <td>HKDYB5409</td>\n",
       "      <td>1</td>\n",
       "      <td>2590</td>\n",
       "      <td>1295.0</td>\n",
       "      <td>1295.0</td>\n",
       "    </tr>\n",
       "    <tr>\n",
       "      <th>1</th>\n",
       "      <td>2013</td>\n",
       "      <td>1</td>\n",
       "      <td>2013-01-01</td>\n",
       "      <td>北京分部</td>\n",
       "      <td>未定义</td>\n",
       "      <td>B098</td>\n",
       "      <td>天津伊势丹</td>\n",
       "      <td>托管</td>\n",
       "      <td>3</td>\n",
       "      <td>LA1B098000989</td>\n",
       "      <td>...</td>\n",
       "      <td>未定义</td>\n",
       "      <td>11年冬季</td>\n",
       "      <td>2011</td>\n",
       "      <td>长款羽绒衣</td>\n",
       "      <td>零售销货单</td>\n",
       "      <td>HKDYC5334</td>\n",
       "      <td>2</td>\n",
       "      <td>5980</td>\n",
       "      <td>2990.0</td>\n",
       "      <td>2990.0</td>\n",
       "    </tr>\n",
       "  </tbody>\n",
       "</table>\n",
       "<p>2 rows × 30 columns</p>\n",
       "</div>"
      ],
      "text/plain": [
       "      年  月          日期  渠道名称 区域名称  客户代码   客户名称 类别名称  客户类别           单据编号  \\\n",
       "0  2013  1  2013-01-01  北京分部  未定义  B098  天津伊势丹   托管     3  LA1B098000989   \n",
       "1  2013  1  2013-01-01  北京分部  未定义  B098  天津伊势丹   托管     3  LA1B098000989   \n",
       "\n",
       "    ...   设计师名称   季节名称  商品年份   商品名称   单据类型       商品代码 数量  选定金额    实际金额     结算额  \n",
       "0   ...     未定义  11年冬季  2011  短款羽绒衣  零售销货单  HKDYB5409  1  2590  1295.0  1295.0  \n",
       "1   ...     未定义  11年冬季  2011  长款羽绒衣  零售销货单  HKDYC5334  2  5980  2990.0  2990.0  \n",
       "\n",
       "[2 rows x 30 columns]"
      ]
     },
     "execution_count": 10,
     "metadata": {},
     "output_type": "execute_result"
    }
   ],
   "source": [
    "xmoom_sale_2013_2015.head(2)"
   ]
  },
  {
   "cell_type": "code",
   "execution_count": 30,
   "metadata": {},
   "outputs": [
    {
     "data": {
      "text/plain": [
       "年\n",
       "2013   39,191,860\n",
       "2014   31,971,826\n",
       "2015   44,435,044\n",
       "2016   59,883,133\n",
       "2017   82,381,047\n",
       "dtype: float64"
      ]
     },
     "execution_count": 30,
     "metadata": {},
     "output_type": "execute_result"
    }
   ],
   "source": [
    "xmoom_total_sale_1317 = xmoom_sale_2013_2017.groupby('年').实际金额.sum()\n",
    "xmoom_total_sale_1317.rename(columns = {'year','sale'}, \n",
    "                             replace = True)"
   ]
  },
  {
   "cell_type": "code",
   "execution_count": 33,
   "metadata": {},
   "outputs": [
    {
     "data": {
      "text/plain": [
       "dtype('float64')"
      ]
     },
     "execution_count": 33,
     "metadata": {},
     "output_type": "execute_result"
    }
   ],
   "source": [
    "np.dtype(xmoom_total_sale_1317)"
   ]
  },
  {
   "cell_type": "code",
   "execution_count": 31,
   "metadata": {},
   "outputs": [
    {
     "data": {
      "text/plain": [
       "年\n",
       "2013   39,191,860\n",
       "2014   31,971,826\n",
       "2015   44,435,044\n",
       "2016   59,883,133\n",
       "2017   82,381,047\n",
       "Name: 实际金额, dtype: float64"
      ]
     },
     "execution_count": 31,
     "metadata": {},
     "output_type": "execute_result"
    }
   ],
   "source": [
    "xmoom_total_sale_1317"
   ]
  },
  {
   "cell_type": "code",
   "execution_count": 25,
   "metadata": {},
   "outputs": [
    {
     "data": {
      "image/png": "[encoded data removed]",
      "text/plain": [
       "<matplotlib.figure.Figure at 0x10b348940>"
      ]
     },
     "metadata": {},
     "output_type": "display_data"
    }
   ],
   "source": [
    "pd.options.display.float_format = '{:,.0f}'.format\n",
    "xmoom_total_sale_1317 = xmoom_sale_2013_2017.groupby('年').实际金额.sum()\n",
    "%matplotlib inline\n",
    "plt.figure(figsize = (10, 8))\n",
    "\n",
    ".plot(kind = 'bar', \n",
    "                                                     facecolor = '#9999ff', \n",
    "                                                     edgecolor = 'white')\n",
    "plt.ylabel('sale')\n",
    "# 添加数据标签\n",
    "X = xmoom_sale_2013_2017.年\n",
    "for x, y in zip(X, y1):\n",
    "    # ha:horizontal alignment\n",
    "    # va:vertical alignment\n",
    "    plt.text(x, y + 0.04, '%.2f' % y, ha = 'center', va = 'bottom')\n",
    "plt.show()"
   ]
  },
  {
   "cell_type": "code",
   "execution_count": 14,
   "metadata": {},
   "outputs": [
    {
     "ename": "ValueError",
     "evalue": "No axis named 客户名称 for object type <class 'pandas.core.frame.DataFrame'>",
     "output_type": "error",
     "traceback": [
      "\u001b[0;31m---------------------------------------------------------------------------\u001b[0m",
      "\u001b[0;31mValueError\u001b[0m                                Traceback (most recent call last)",
      "\u001b[0;32m<ipython-input-14-6bd3a120e4f1>\u001b[0m in \u001b[0;36m<module>\u001b[0;34m()\u001b[0m\n\u001b[1;32m      1\u001b[0m \u001b[0mpd\u001b[0m\u001b[0;34m.\u001b[0m\u001b[0moptions\u001b[0m\u001b[0;34m.\u001b[0m\u001b[0mdisplay\u001b[0m\u001b[0;34m.\u001b[0m\u001b[0mfloat_format\u001b[0m \u001b[0;34m=\u001b[0m \u001b[0;34m'{:,.0f}'\u001b[0m\u001b[0;34m.\u001b[0m\u001b[0mformat\u001b[0m\u001b[0;34m\u001b[0m\u001b[0m\n\u001b[1;32m      2\u001b[0m \u001b[0mxmoom_sale_2013_2017\u001b[0m\u001b[0;34m.\u001b[0m\u001b[0mgroupby\u001b[0m\u001b[0;34m(\u001b[0m\u001b[0;34m'年'\u001b[0m\u001b[0;34m)\u001b[0m\u001b[0;34m.\u001b[0m\u001b[0m实际金额\u001b[0m\u001b[0;34m.\u001b[0m\u001b[0msum\u001b[0m\u001b[0;34m(\u001b[0m\u001b[0;34m)\u001b[0m\u001b[0;34m\u001b[0m\u001b[0m\n\u001b[0;32m----> 3\u001b[0;31m \u001b[0mxmoom_sale_2013_2017\u001b[0m\u001b[0;34m.\u001b[0m\u001b[0mgroupby\u001b[0m\u001b[0;34m(\u001b[0m\u001b[0;34m'年'\u001b[0m\u001b[0;34m,\u001b[0m\u001b[0;34m'客户名称'\u001b[0m\u001b[0;34m)\u001b[0m\u001b[0;34m.\u001b[0m\u001b[0m实际金额\u001b[0m\u001b[0;34m.\u001b[0m\u001b[0msum\u001b[0m\u001b[0;34m(\u001b[0m\u001b[0;34m)\u001b[0m\u001b[0;34m\u001b[0m\u001b[0m\n\u001b[0m",
      "\u001b[0;32m/anaconda3/lib/python3.6/site-packages/pandas/core/generic.py\u001b[0m in \u001b[0;36mgroupby\u001b[0;34m(self, by, axis, level, as_index, sort, group_keys, squeeze, **kwargs)\u001b[0m\n\u001b[1;32m   5157\u001b[0m         \u001b[0;32mif\u001b[0m \u001b[0mlevel\u001b[0m \u001b[0;32mis\u001b[0m \u001b[0;32mNone\u001b[0m \u001b[0;32mand\u001b[0m \u001b[0mby\u001b[0m \u001b[0;32mis\u001b[0m \u001b[0;32mNone\u001b[0m\u001b[0;34m:\u001b[0m\u001b[0;34m\u001b[0m\u001b[0m\n\u001b[1;32m   5158\u001b[0m             \u001b[0;32mraise\u001b[0m \u001b[0mTypeError\u001b[0m\u001b[0;34m(\u001b[0m\u001b[0;34m\"You have to supply one of 'by' and 'level'\"\u001b[0m\u001b[0;34m)\u001b[0m\u001b[0;34m\u001b[0m\u001b[0m\n\u001b[0;32m-> 5159\u001b[0;31m         \u001b[0maxis\u001b[0m \u001b[0;34m=\u001b[0m \u001b[0mself\u001b[0m\u001b[0;34m.\u001b[0m\u001b[0m_get_axis_number\u001b[0m\u001b[0;34m(\u001b[0m\u001b[0maxis\u001b[0m\u001b[0;34m)\u001b[0m\u001b[0;34m\u001b[0m\u001b[0m\n\u001b[0m\u001b[1;32m   5160\u001b[0m         return groupby(self, by=by, axis=axis, level=level, as_index=as_index,\n\u001b[1;32m   5161\u001b[0m                        \u001b[0msort\u001b[0m\u001b[0;34m=\u001b[0m\u001b[0msort\u001b[0m\u001b[0;34m,\u001b[0m \u001b[0mgroup_keys\u001b[0m\u001b[0;34m=\u001b[0m\u001b[0mgroup_keys\u001b[0m\u001b[0;34m,\u001b[0m \u001b[0msqueeze\u001b[0m\u001b[0;34m=\u001b[0m\u001b[0msqueeze\u001b[0m\u001b[0;34m,\u001b[0m\u001b[0;34m\u001b[0m\u001b[0m\n",
      "\u001b[0;32m/anaconda3/lib/python3.6/site-packages/pandas/core/generic.py\u001b[0m in \u001b[0;36m_get_axis_number\u001b[0;34m(self, axis)\u001b[0m\n\u001b[1;32m    355\u001b[0m                 \u001b[0;32mpass\u001b[0m\u001b[0;34m\u001b[0m\u001b[0m\n\u001b[1;32m    356\u001b[0m         raise ValueError('No axis named {0} for object type {1}'\n\u001b[0;32m--> 357\u001b[0;31m                          .format(axis, type(self)))\n\u001b[0m\u001b[1;32m    358\u001b[0m \u001b[0;34m\u001b[0m\u001b[0m\n\u001b[1;32m    359\u001b[0m     \u001b[0;32mdef\u001b[0m \u001b[0m_get_axis_name\u001b[0m\u001b[0;34m(\u001b[0m\u001b[0mself\u001b[0m\u001b[0;34m,\u001b[0m \u001b[0maxis\u001b[0m\u001b[0;34m)\u001b[0m\u001b[0;34m:\u001b[0m\u001b[0;34m\u001b[0m\u001b[0m\n",
      "\u001b[0;31mValueError\u001b[0m: No axis named 客户名称 for object type <class 'pandas.core.frame.DataFrame'>"
     ]
    }
   ],
   "source": [
    "xmoom_sale_2013_2017.groupby('年','客户名称').实际金额.sum()"
   ]
  },
  {
   "cell_type": "code",
   "execution_count": null,
   "metadata": {},
   "outputs": [],
   "source": []
  },
  {
   "cell_type": "code",
   "execution_count": null,
   "metadata": {},
   "outputs": [],
   "source": []
  }
 ],
 "metadata": {
  "kernelspec": {
   "display_name": "Python 3",
   "language": "python",
   "name": "python3"
  },
  "language_info": {
   "codemirror_mode": {
    "name": "ipython",
    "version": 3
   },
   "file_extension": ".py",
   "mimetype": "text/x-python",
   "name": "python",
   "nbconvert_exporter": "python",
   "pygments_lexer": "ipython3",
   "version": "3.6.4"
  }
 },
 "nbformat": 4,
 "nbformat_minor": 2
}
